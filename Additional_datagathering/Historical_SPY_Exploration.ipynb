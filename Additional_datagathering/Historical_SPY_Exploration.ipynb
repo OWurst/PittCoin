{
 "cells": [
  {
   "cell_type": "markdown",
   "metadata": {},
   "source": [
    "# S&P 500 Price Data Exploration 2010-2023"
   ]
  },
  {
   "cell_type": "markdown",
   "metadata": {},
   "source": [
    "The first step in increasing the data for our model will be expanding the number of years we examine. Instead of just 2018, we are going to look at the last 14 completed years. This document does not incorporate any of our NLP work but instead just examines how the S&P500 index has behaved over these years."
   ]
  }
 ],
 "metadata": {
  "language_info": {
   "name": "python"
  }
 },
 "nbformat": 4,
 "nbformat_minor": 2
}
