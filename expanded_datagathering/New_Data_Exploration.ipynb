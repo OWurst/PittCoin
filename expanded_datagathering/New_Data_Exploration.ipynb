{
 "cells": [
  {
   "cell_type": "code",
   "execution_count": 9,
   "metadata": {},
   "outputs": [],
   "source": [
    "import pandas as pd"
   ]
  },
  {
   "cell_type": "code",
   "execution_count": 10,
   "metadata": {},
   "outputs": [],
   "source": [
    "df = pd.read_csv('new_train_data.csv', index_col=0)"
   ]
  },
  {
   "cell_type": "code",
   "execution_count": 11,
   "metadata": {},
   "outputs": [
    {
     "data": {
      "text/html": [
       "<div>\n",
       "<style scoped>\n",
       "    .dataframe tbody tr th:only-of-type {\n",
       "        vertical-align: middle;\n",
       "    }\n",
       "\n",
       "    .dataframe tbody tr th {\n",
       "        vertical-align: top;\n",
       "    }\n",
       "\n",
       "    .dataframe thead th {\n",
       "        text-align: right;\n",
       "    }\n",
       "</style>\n",
       "<table border=\"1\" class=\"dataframe\">\n",
       "  <thead>\n",
       "    <tr style=\"text-align: right;\">\n",
       "      <th></th>\n",
       "      <th>date</th>\n",
       "      <th>title</th>\n",
       "      <th>text</th>\n",
       "    </tr>\n",
       "  </thead>\n",
       "  <tbody>\n",
       "    <tr>\n",
       "      <th>0</th>\n",
       "      <td>05/01/17</td>\n",
       "      <td>Eliminating shadow economy to have positive im...</td>\n",
       "      <td>Arun Jaitley: Eliminating shadow economy to ha...</td>\n",
       "    </tr>\n",
       "    <tr>\n",
       "      <th>1</th>\n",
       "      <td>05/01/17</td>\n",
       "      <td>Two Chinese companies hit roadblock with India...</td>\n",
       "      <td>Two Chinese companies hit roadblock with India...</td>\n",
       "    </tr>\n",
       "    <tr>\n",
       "      <th>2</th>\n",
       "      <td>05/01/17</td>\n",
       "      <td>SoftBank India Vision gets new $100</td>\n",
       "      <td>SoftBank’s India Vision gets new $100-bn tech-...</td>\n",
       "    </tr>\n",
       "    <tr>\n",
       "      <th>3</th>\n",
       "      <td>05/01/17</td>\n",
       "      <td>Nissan halts joint development of luxury cars ...</td>\n",
       "      <td>\\nMost Viewed Business News Articles, Top News...</td>\n",
       "    </tr>\n",
       "    <tr>\n",
       "      <th>4</th>\n",
       "      <td>05/01/17</td>\n",
       "      <td>Despite challenges Rajasthan continues to prog...</td>\n",
       "      <td>Vasundhara Raje: Despite challenges Rajasthan ...</td>\n",
       "    </tr>\n",
       "    <tr>\n",
       "      <th>5</th>\n",
       "      <td>05/01/17</td>\n",
       "      <td>India questions composition of UN panel to dra...</td>\n",
       "      <td>India questions composition of UN panel to dra...</td>\n",
       "    </tr>\n",
       "    <tr>\n",
       "      <th>6</th>\n",
       "      <td>05/01/17</td>\n",
       "      <td>Wall St flat as banks , discretionary stocks f...</td>\n",
       "      <td>\\nMost Viewed Business News Articles, Top News...</td>\n",
       "    </tr>\n",
       "    <tr>\n",
       "      <th>7</th>\n",
       "      <td>05/01/17</td>\n",
       "      <td>We are stock specific in pharma and auto , not...</td>\n",
       "      <td>We are stock specific in pharma and auto, not ...</td>\n",
       "    </tr>\n",
       "    <tr>\n",
       "      <th>8</th>\n",
       "      <td>05/01/17</td>\n",
       "      <td>Cautious on pharma , time to get into IT : Mah...</td>\n",
       "      <td>SBI: Cautious on pharma, time to get into IT: ...</td>\n",
       "    </tr>\n",
       "    <tr>\n",
       "      <th>9</th>\n",
       "      <td>05/01/17</td>\n",
       "      <td>Rupee gains further ground , ends 9 paise high...</td>\n",
       "      <td>Rupee: Rupee gains further ground, ends 9 pais...</td>\n",
       "    </tr>\n",
       "  </tbody>\n",
       "</table>\n",
       "</div>"
      ],
      "text/plain": [
       "       date                                              title  \\\n",
       "0  05/01/17  Eliminating shadow economy to have positive im...   \n",
       "1  05/01/17  Two Chinese companies hit roadblock with India...   \n",
       "2  05/01/17                SoftBank India Vision gets new $100   \n",
       "3  05/01/17  Nissan halts joint development of luxury cars ...   \n",
       "4  05/01/17  Despite challenges Rajasthan continues to prog...   \n",
       "5  05/01/17  India questions composition of UN panel to dra...   \n",
       "6  05/01/17  Wall St flat as banks , discretionary stocks f...   \n",
       "7  05/01/17  We are stock specific in pharma and auto , not...   \n",
       "8  05/01/17  Cautious on pharma , time to get into IT : Mah...   \n",
       "9  05/01/17  Rupee gains further ground , ends 9 paise high...   \n",
       "\n",
       "                                                text  \n",
       "0  Arun Jaitley: Eliminating shadow economy to ha...  \n",
       "1  Two Chinese companies hit roadblock with India...  \n",
       "2  SoftBank’s India Vision gets new $100-bn tech-...  \n",
       "3  \\nMost Viewed Business News Articles, Top News...  \n",
       "4  Vasundhara Raje: Despite challenges Rajasthan ...  \n",
       "5  India questions composition of UN panel to dra...  \n",
       "6  \\nMost Viewed Business News Articles, Top News...  \n",
       "7  We are stock specific in pharma and auto, not ...  \n",
       "8  SBI: Cautious on pharma, time to get into IT: ...  \n",
       "9  Rupee: Rupee gains further ground, ends 9 pais...  "
      ]
     },
     "execution_count": 11,
     "metadata": {},
     "output_type": "execute_result"
    }
   ],
   "source": [
    "df.head(10)"
   ]
  }
 ],
 "metadata": {
  "kernelspec": {
   "display_name": "env",
   "language": "python",
   "name": "python3"
  },
  "language_info": {
   "codemirror_mode": {
    "name": "ipython",
    "version": 3
   },
   "file_extension": ".py",
   "mimetype": "text/x-python",
   "name": "python",
   "nbconvert_exporter": "python",
   "pygments_lexer": "ipython3",
   "version": "3.10.7"
  }
 },
 "nbformat": 4,
 "nbformat_minor": 2
}
