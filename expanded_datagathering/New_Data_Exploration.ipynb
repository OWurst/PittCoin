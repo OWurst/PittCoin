{
 "cells": [
  {
   "cell_type": "markdown",
   "metadata": {},
   "source": [
    "# New Data Exploration:\n",
    "Here I am creating visualizations to show the breakdown of the newly added data. I am generally just using this to visualize when the articles we have were written with the goal of getting a reasonably even distribution of articles written over the 14 years we are looking at."
   ]
  },
  {
   "cell_type": "code",
   "execution_count": 16,
   "metadata": {},
   "outputs": [],
   "source": [
    "import pandas as pd"
   ]
  },
  {
   "cell_type": "code",
   "execution_count": 18,
   "metadata": {},
   "outputs": [
    {
     "data": {
      "text/html": [
       "<div>\n",
       "<style scoped>\n",
       "    .dataframe tbody tr th:only-of-type {\n",
       "        vertical-align: middle;\n",
       "    }\n",
       "\n",
       "    .dataframe tbody tr th {\n",
       "        vertical-align: top;\n",
       "    }\n",
       "\n",
       "    .dataframe thead th {\n",
       "        text-align: right;\n",
       "    }\n",
       "</style>\n",
       "<table border=\"1\" class=\"dataframe\">\n",
       "  <thead>\n",
       "    <tr style=\"text-align: right;\">\n",
       "      <th></th>\n",
       "      <th>text</th>\n",
       "      <th>title</th>\n",
       "      <th>date</th>\n",
       "      <th>Quarter</th>\n",
       "    </tr>\n",
       "  </thead>\n",
       "  <tbody>\n",
       "    <tr>\n",
       "      <th>0</th>\n",
       "      <td>'arun jaitley: eliminating shadow economy to h...</td>\n",
       "      <td>'eliminating shadow economy to have positive i...</td>\n",
       "      <td>2017-05-01</td>\n",
       "      <td>2017 Q2</td>\n",
       "    </tr>\n",
       "    <tr>\n",
       "      <th>1</th>\n",
       "      <td>'two chinese companies hit roadblock with indi...</td>\n",
       "      <td>'two chinese companies hit roadblock with indi...</td>\n",
       "      <td>2017-05-01</td>\n",
       "      <td>2017 Q2</td>\n",
       "    </tr>\n",
       "    <tr>\n",
       "      <th>2</th>\n",
       "      <td>'softbank's india vision gets new $100-bn tech...</td>\n",
       "      <td>'softbank india vision gets new $100'</td>\n",
       "      <td>2017-05-01</td>\n",
       "      <td>2017 Q2</td>\n",
       "    </tr>\n",
       "    <tr>\n",
       "      <th>3</th>\n",
       "      <td>' most viewed business news articles, top news...</td>\n",
       "      <td>'nissan halts joint development of luxury cars...</td>\n",
       "      <td>2017-05-01</td>\n",
       "      <td>2017 Q2</td>\n",
       "    </tr>\n",
       "    <tr>\n",
       "      <th>4</th>\n",
       "      <td>'vasundhara raje: despite challenges rajasthan...</td>\n",
       "      <td>'despite challenges rajasthan continues to pro...</td>\n",
       "      <td>2017-05-01</td>\n",
       "      <td>2017 Q2</td>\n",
       "    </tr>\n",
       "  </tbody>\n",
       "</table>\n",
       "</div>"
      ],
      "text/plain": [
       "                                                text  \\\n",
       "0  'arun jaitley: eliminating shadow economy to h...   \n",
       "1  'two chinese companies hit roadblock with indi...   \n",
       "2  'softbank's india vision gets new $100-bn tech...   \n",
       "3  ' most viewed business news articles, top news...   \n",
       "4  'vasundhara raje: despite challenges rajasthan...   \n",
       "\n",
       "                                               title       date  Quarter  \n",
       "0  'eliminating shadow economy to have positive i... 2017-05-01  2017 Q2  \n",
       "1  'two chinese companies hit roadblock with indi... 2017-05-01  2017 Q2  \n",
       "2              'softbank india vision gets new $100' 2017-05-01  2017 Q2  \n",
       "3  'nissan halts joint development of luxury cars... 2017-05-01  2017 Q2  \n",
       "4  'despite challenges rajasthan continues to pro... 2017-05-01  2017 Q2  "
      ]
     },
     "execution_count": 18,
     "metadata": {},
     "output_type": "execute_result"
    }
   ],
   "source": [
    "df = pd.read_csv('new_train_data.csv', index_col=0)\n",
    "df['date'] = pd.to_datetime(df['date'])\n",
    "df['Quarter'] = df['date'].dt.year.astype(str) + ' Q' + df['date'].dt.quarter.astype(str)\n",
    "df.head(5)"
   ]
  },
  {
   "cell_type": "code",
   "execution_count": 19,
   "metadata": {},
   "outputs": [
    {
     "data": {
      "image/png": "[encoded data removed]",
      "text/plain": [
       "<Figure size 640x480 with 1 Axes>"
      ]
     },
     "metadata": {},
     "output_type": "display_data"
    }
   ],
   "source": [
    "# create histogram to show the distribution of the number of total articles per quarter\n",
    "ignore = df['Quarter'].value_counts().plot(kind='bar')"
   ]
  }
 ],
 "metadata": {
  "kernelspec": {
   "display_name": "env",
   "language": "python",
   "name": "python3"
  },
  "language_info": {
   "codemirror_mode": {
    "name": "ipython",
    "version": 3
   },
   "file_extension": ".py",
   "mimetype": "text/x-python",
   "name": "python",
   "nbconvert_exporter": "python",
   "pygments_lexer": "ipython3",
   "version": "3.10.7"
  }
 },
 "nbformat": 4,
 "nbformat_minor": 2
}
