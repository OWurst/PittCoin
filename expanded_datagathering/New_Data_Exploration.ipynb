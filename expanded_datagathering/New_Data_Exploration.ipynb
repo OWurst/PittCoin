{
 "cells": [
  {
   "cell_type": "code",
   "execution_count": 32,
   "metadata": {},
   "outputs": [],
   "source": [
    "import pandas as pd"
   ]
  },
  {
   "cell_type": "code",
   "execution_count": 33,
   "metadata": {},
   "outputs": [],
   "source": [
    "df = pd.read_csv('new_train_data.csv', index_col=0)\n",
    "df['date'] = pd.to_datetime(df['date'])"
   ]
  },
  {
   "cell_type": "code",
   "execution_count": 34,
   "metadata": {},
   "outputs": [
    {
     "data": {
      "text/html": [
       "<div>\n",
       "<style scoped>\n",
       "    .dataframe tbody tr th:only-of-type {\n",
       "        vertical-align: middle;\n",
       "    }\n",
       "\n",
       "    .dataframe tbody tr th {\n",
       "        vertical-align: top;\n",
       "    }\n",
       "\n",
       "    .dataframe thead th {\n",
       "        text-align: right;\n",
       "    }\n",
       "</style>\n",
       "<table border=\"1\" class=\"dataframe\">\n",
       "  <thead>\n",
       "    <tr style=\"text-align: right;\">\n",
       "      <th></th>\n",
       "      <th>text</th>\n",
       "      <th>title</th>\n",
       "      <th>date</th>\n",
       "    </tr>\n",
       "  </thead>\n",
       "  <tbody>\n",
       "    <tr>\n",
       "      <th>0</th>\n",
       "      <td>'arun jaitley: eliminating shadow economy to h...</td>\n",
       "      <td>'eliminating shadow economy to have positive i...</td>\n",
       "      <td>2017-05-01</td>\n",
       "    </tr>\n",
       "    <tr>\n",
       "      <th>1</th>\n",
       "      <td>'two chinese companies hit roadblock with indi...</td>\n",
       "      <td>'two chinese companies hit roadblock with indi...</td>\n",
       "      <td>2017-05-01</td>\n",
       "    </tr>\n",
       "    <tr>\n",
       "      <th>2</th>\n",
       "      <td>'softbank's india vision gets new $100-bn tech...</td>\n",
       "      <td>'softbank india vision gets new $100'</td>\n",
       "      <td>2017-05-01</td>\n",
       "    </tr>\n",
       "    <tr>\n",
       "      <th>3</th>\n",
       "      <td>' most viewed business news articles, top news...</td>\n",
       "      <td>'nissan halts joint development of luxury cars...</td>\n",
       "      <td>2017-05-01</td>\n",
       "    </tr>\n",
       "    <tr>\n",
       "      <th>4</th>\n",
       "      <td>'vasundhara raje: despite challenges rajasthan...</td>\n",
       "      <td>'despite challenges rajasthan continues to pro...</td>\n",
       "      <td>2017-05-01</td>\n",
       "    </tr>\n",
       "    <tr>\n",
       "      <th>5</th>\n",
       "      <td>'india questions composition of un panel to dr...</td>\n",
       "      <td>'india questions composition of un panel to dr...</td>\n",
       "      <td>2017-05-01</td>\n",
       "    </tr>\n",
       "    <tr>\n",
       "      <th>7</th>\n",
       "      <td>'we are stock specific in pharma and auto, not...</td>\n",
       "      <td>'we are stock specific in pharma and auto , no...</td>\n",
       "      <td>2017-05-01</td>\n",
       "    </tr>\n",
       "    <tr>\n",
       "      <th>8</th>\n",
       "      <td>'sbi: cautious on pharma, time to get into it:...</td>\n",
       "      <td>'cautious on pharma , time to get into it : ma...</td>\n",
       "      <td>2017-05-01</td>\n",
       "    </tr>\n",
       "    <tr>\n",
       "      <th>9</th>\n",
       "      <td>'rupee: rupee gains further ground, ends 9 pai...</td>\n",
       "      <td>'rupee gains further ground , ends 9 paise hig...</td>\n",
       "      <td>2017-05-01</td>\n",
       "    </tr>\n",
       "    <tr>\n",
       "      <th>11</th>\n",
       "      <td>'budget session's second phase likely from mar...</td>\n",
       "      <td>'budget session second phase likely from march...</td>\n",
       "      <td>2017-05-01</td>\n",
       "    </tr>\n",
       "  </tbody>\n",
       "</table>\n",
       "</div>"
      ],
      "text/plain": [
       "                                                 text  \\\n",
       "0   'arun jaitley: eliminating shadow economy to h...   \n",
       "1   'two chinese companies hit roadblock with indi...   \n",
       "2   'softbank's india vision gets new $100-bn tech...   \n",
       "3   ' most viewed business news articles, top news...   \n",
       "4   'vasundhara raje: despite challenges rajasthan...   \n",
       "5   'india questions composition of un panel to dr...   \n",
       "7   'we are stock specific in pharma and auto, not...   \n",
       "8   'sbi: cautious on pharma, time to get into it:...   \n",
       "9   'rupee: rupee gains further ground, ends 9 pai...   \n",
       "11  'budget session's second phase likely from mar...   \n",
       "\n",
       "                                                title       date  \n",
       "0   'eliminating shadow economy to have positive i... 2017-05-01  \n",
       "1   'two chinese companies hit roadblock with indi... 2017-05-01  \n",
       "2               'softbank india vision gets new $100' 2017-05-01  \n",
       "3   'nissan halts joint development of luxury cars... 2017-05-01  \n",
       "4   'despite challenges rajasthan continues to pro... 2017-05-01  \n",
       "5   'india questions composition of un panel to dr... 2017-05-01  \n",
       "7   'we are stock specific in pharma and auto , no... 2017-05-01  \n",
       "8   'cautious on pharma , time to get into it : ma... 2017-05-01  \n",
       "9   'rupee gains further ground , ends 9 paise hig... 2017-05-01  \n",
       "11  'budget session second phase likely from march... 2017-05-01  "
      ]
     },
     "execution_count": 34,
     "metadata": {},
     "output_type": "execute_result"
    }
   ],
   "source": [
    "df.head(10)"
   ]
  },
  {
   "cell_type": "code",
   "execution_count": null,
   "metadata": {},
   "outputs": [],
   "source": []
  },
  {
   "cell_type": "code",
   "execution_count": 35,
   "metadata": {},
   "outputs": [
    {
     "data": {
      "text/html": [
       "<div>\n",
       "<style scoped>\n",
       "    .dataframe tbody tr th:only-of-type {\n",
       "        vertical-align: middle;\n",
       "    }\n",
       "\n",
       "    .dataframe tbody tr th {\n",
       "        vertical-align: top;\n",
       "    }\n",
       "\n",
       "    .dataframe thead th {\n",
       "        text-align: right;\n",
       "    }\n",
       "</style>\n",
       "<table border=\"1\" class=\"dataframe\">\n",
       "  <thead>\n",
       "    <tr style=\"text-align: right;\">\n",
       "      <th></th>\n",
       "      <th>date</th>\n",
       "    </tr>\n",
       "  </thead>\n",
       "  <tbody>\n",
       "    <tr>\n",
       "      <th>count</th>\n",
       "      <td>12312</td>\n",
       "    </tr>\n",
       "    <tr>\n",
       "      <th>mean</th>\n",
       "      <td>2017-07-28 14:59:03.859649280</td>\n",
       "    </tr>\n",
       "    <tr>\n",
       "      <th>min</th>\n",
       "      <td>2017-01-01 00:00:00</td>\n",
       "    </tr>\n",
       "    <tr>\n",
       "      <th>25%</th>\n",
       "      <td>2017-02-16 00:00:00</td>\n",
       "    </tr>\n",
       "    <tr>\n",
       "      <th>50%</th>\n",
       "      <td>2017-04-03 00:00:00</td>\n",
       "    </tr>\n",
       "    <tr>\n",
       "      <th>75%</th>\n",
       "      <td>2018-02-08 00:00:00</td>\n",
       "    </tr>\n",
       "    <tr>\n",
       "      <th>max</th>\n",
       "      <td>2018-05-31 00:00:00</td>\n",
       "    </tr>\n",
       "  </tbody>\n",
       "</table>\n",
       "</div>"
      ],
      "text/plain": [
       "                                date\n",
       "count                          12312\n",
       "mean   2017-07-28 14:59:03.859649280\n",
       "min              2017-01-01 00:00:00\n",
       "25%              2017-02-16 00:00:00\n",
       "50%              2017-04-03 00:00:00\n",
       "75%              2018-02-08 00:00:00\n",
       "max              2018-05-31 00:00:00"
      ]
     },
     "execution_count": 35,
     "metadata": {},
     "output_type": "execute_result"
    }
   ],
   "source": [
    "df.describe()"
   ]
  },
  {
   "cell_type": "code",
   "execution_count": 36,
   "metadata": {},
   "outputs": [
    {
     "data": {
      "text/plain": [
       "text             object\n",
       "title            object\n",
       "date     datetime64[ns]\n",
       "dtype: object"
      ]
     },
     "execution_count": 36,
     "metadata": {},
     "output_type": "execute_result"
    }
   ],
   "source": [
    "df.dtypes"
   ]
  },
  {
   "cell_type": "code",
   "execution_count": 37,
   "metadata": {},
   "outputs": [
    {
     "data": {
      "text/html": [
       "<div>\n",
       "<style scoped>\n",
       "    .dataframe tbody tr th:only-of-type {\n",
       "        vertical-align: middle;\n",
       "    }\n",
       "\n",
       "    .dataframe tbody tr th {\n",
       "        vertical-align: top;\n",
       "    }\n",
       "\n",
       "    .dataframe thead th {\n",
       "        text-align: right;\n",
       "    }\n",
       "</style>\n",
       "<table border=\"1\" class=\"dataframe\">\n",
       "  <thead>\n",
       "    <tr style=\"text-align: right;\">\n",
       "      <th></th>\n",
       "      <th>text</th>\n",
       "      <th>title</th>\n",
       "      <th>date</th>\n",
       "      <th>Quarter</th>\n",
       "    </tr>\n",
       "  </thead>\n",
       "  <tbody>\n",
       "    <tr>\n",
       "      <th>0</th>\n",
       "      <td>'arun jaitley: eliminating shadow economy to h...</td>\n",
       "      <td>'eliminating shadow economy to have positive i...</td>\n",
       "      <td>2017-05-01</td>\n",
       "      <td>2017 Q2</td>\n",
       "    </tr>\n",
       "    <tr>\n",
       "      <th>1</th>\n",
       "      <td>'two chinese companies hit roadblock with indi...</td>\n",
       "      <td>'two chinese companies hit roadblock with indi...</td>\n",
       "      <td>2017-05-01</td>\n",
       "      <td>2017 Q2</td>\n",
       "    </tr>\n",
       "    <tr>\n",
       "      <th>2</th>\n",
       "      <td>'softbank's india vision gets new $100-bn tech...</td>\n",
       "      <td>'softbank india vision gets new $100'</td>\n",
       "      <td>2017-05-01</td>\n",
       "      <td>2017 Q2</td>\n",
       "    </tr>\n",
       "    <tr>\n",
       "      <th>3</th>\n",
       "      <td>' most viewed business news articles, top news...</td>\n",
       "      <td>'nissan halts joint development of luxury cars...</td>\n",
       "      <td>2017-05-01</td>\n",
       "      <td>2017 Q2</td>\n",
       "    </tr>\n",
       "    <tr>\n",
       "      <th>4</th>\n",
       "      <td>'vasundhara raje: despite challenges rajasthan...</td>\n",
       "      <td>'despite challenges rajasthan continues to pro...</td>\n",
       "      <td>2017-05-01</td>\n",
       "      <td>2017 Q2</td>\n",
       "    </tr>\n",
       "  </tbody>\n",
       "</table>\n",
       "</div>"
      ],
      "text/plain": [
       "                                                text  \\\n",
       "0  'arun jaitley: eliminating shadow economy to h...   \n",
       "1  'two chinese companies hit roadblock with indi...   \n",
       "2  'softbank's india vision gets new $100-bn tech...   \n",
       "3  ' most viewed business news articles, top news...   \n",
       "4  'vasundhara raje: despite challenges rajasthan...   \n",
       "\n",
       "                                               title       date  Quarter  \n",
       "0  'eliminating shadow economy to have positive i... 2017-05-01  2017 Q2  \n",
       "1  'two chinese companies hit roadblock with indi... 2017-05-01  2017 Q2  \n",
       "2              'softbank india vision gets new $100' 2017-05-01  2017 Q2  \n",
       "3  'nissan halts joint development of luxury cars... 2017-05-01  2017 Q2  \n",
       "4  'despite challenges rajasthan continues to pro... 2017-05-01  2017 Q2  "
      ]
     },
     "execution_count": 37,
     "metadata": {},
     "output_type": "execute_result"
    }
   ],
   "source": [
    "df[\"Quarter\"] = df[\"date\"].dt.year.astype(str) + \" Q\" + df[\"date\"].dt.quarter.astype(str)\n",
    "df.head()"
   ]
  },
  {
   "cell_type": "code",
   "execution_count": 23,
   "metadata": {},
   "outputs": [
    {
     "data": {
      "text/plain": [
       "{'2017 Q1', '2017 Q2', '2017 Q3', '2017 Q4', '2018 Q1', '2018 Q2'}"
      ]
     },
     "execution_count": 23,
     "metadata": {},
     "output_type": "execute_result"
    }
   ],
   "source": [
    "# print all unique quarters in df\n",
    "quarters = df['Quarter']\n",
    "set(quarters)"
   ]
  },
  {
   "cell_type": "code",
   "execution_count": 38,
   "metadata": {},
   "outputs": [
    {
     "data": {
      "text/plain": [
       "<Axes: xlabel='Quarter'>"
      ]
     },
     "execution_count": 38,
     "metadata": {},
     "output_type": "execute_result"
    },
    {
     "data": {
      "image/png": "[encoded data removed]",
      "text/plain": [
       "<Figure size 640x480 with 1 Axes>"
      ]
     },
     "metadata": {},
     "output_type": "display_data"
    }
   ],
   "source": [
    "# create histogram to show the distribution of the number of total articles per quarter\n",
    "df['Quarter'].value_counts().plot(kind='bar')"
   ]
  },
  {
   "cell_type": "code",
   "execution_count": 31,
   "metadata": {},
   "outputs": [
    {
     "name": "stdout",
     "output_type": "stream",
     "text": [
      "count                   13194\n",
      "unique                  13105\n",
      "top       'pepper...and salt'\n",
      "freq                       12\n",
      "Name: title, dtype: object\n",
      "count                                                 13194\n",
      "unique                                                12312\n",
      "top       ' most viewed business news articles, top news...\n",
      "freq                                                    498\n",
      "Name: text, dtype: object\n"
     ]
    }
   ],
   "source": [
    "print(df[\"title\"].describe())\n",
    "print(df[\"text\"].describe())"
   ]
  }
 ],
 "metadata": {
  "kernelspec": {
   "display_name": "env",
   "language": "python",
   "name": "python3"
  },
  "language_info": {
   "codemirror_mode": {
    "name": "ipython",
    "version": 3
   },
   "file_extension": ".py",
   "mimetype": "text/x-python",
   "name": "python",
   "nbconvert_exporter": "python",
   "pygments_lexer": "ipython3",
   "version": "3.10.7"
  }
 },
 "nbformat": 4,
 "nbformat_minor": 2
}
