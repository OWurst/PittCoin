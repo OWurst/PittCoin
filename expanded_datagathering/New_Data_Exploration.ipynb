{
 "cells": [
  {
   "cell_type": "code",
   "execution_count": 14,
   "metadata": {},
   "outputs": [],
   "source": [
    "import pandas as pd"
   ]
  },
  {
   "cell_type": "code",
   "execution_count": 15,
   "metadata": {},
   "outputs": [],
   "source": [
    "df = pd.read_csv('new_train_data.csv', index_col=0)\n",
    "df['date'] = pd.to_datetime(df['date'])"
   ]
  },
  {
   "cell_type": "code",
   "execution_count": 16,
   "metadata": {},
   "outputs": [
    {
     "data": {
      "text/html": [
       "<div>\n",
       "<style scoped>\n",
       "    .dataframe tbody tr th:only-of-type {\n",
       "        vertical-align: middle;\n",
       "    }\n",
       "\n",
       "    .dataframe tbody tr th {\n",
       "        vertical-align: top;\n",
       "    }\n",
       "\n",
       "    .dataframe thead th {\n",
       "        text-align: right;\n",
       "    }\n",
       "</style>\n",
       "<table border=\"1\" class=\"dataframe\">\n",
       "  <thead>\n",
       "    <tr style=\"text-align: right;\">\n",
       "      <th></th>\n",
       "      <th>date</th>\n",
       "      <th>title</th>\n",
       "      <th>text</th>\n",
       "    </tr>\n",
       "  </thead>\n",
       "  <tbody>\n",
       "    <tr>\n",
       "      <th>0</th>\n",
       "      <td>2017-05-01</td>\n",
       "      <td>'eliminating shadow economy to have positive i...</td>\n",
       "      <td>'arun jaitley: eliminating shadow economy to h...</td>\n",
       "    </tr>\n",
       "    <tr>\n",
       "      <th>1</th>\n",
       "      <td>2017-05-01</td>\n",
       "      <td>'two chinese companies hit roadblock with indi...</td>\n",
       "      <td>'two chinese companies hit roadblock with indi...</td>\n",
       "    </tr>\n",
       "    <tr>\n",
       "      <th>2</th>\n",
       "      <td>2017-05-01</td>\n",
       "      <td>'softbank india vision gets new $100'</td>\n",
       "      <td>'softbank's india vision gets new $100-bn tech...</td>\n",
       "    </tr>\n",
       "    <tr>\n",
       "      <th>3</th>\n",
       "      <td>2017-05-01</td>\n",
       "      <td>'nissan halts joint development of luxury cars...</td>\n",
       "      <td>' most viewed business news articles, top news...</td>\n",
       "    </tr>\n",
       "    <tr>\n",
       "      <th>4</th>\n",
       "      <td>2017-05-01</td>\n",
       "      <td>'despite challenges rajasthan continues to pro...</td>\n",
       "      <td>'vasundhara raje: despite challenges rajasthan...</td>\n",
       "    </tr>\n",
       "    <tr>\n",
       "      <th>5</th>\n",
       "      <td>2017-05-01</td>\n",
       "      <td>'india questions composition of un panel to dr...</td>\n",
       "      <td>'india questions composition of un panel to dr...</td>\n",
       "    </tr>\n",
       "    <tr>\n",
       "      <th>6</th>\n",
       "      <td>2017-05-01</td>\n",
       "      <td>'wall st flat as banks , discretionary stocks ...</td>\n",
       "      <td>' most viewed business news articles, top news...</td>\n",
       "    </tr>\n",
       "    <tr>\n",
       "      <th>7</th>\n",
       "      <td>2017-05-01</td>\n",
       "      <td>'we are stock specific in pharma and auto , no...</td>\n",
       "      <td>'we are stock specific in pharma and auto, not...</td>\n",
       "    </tr>\n",
       "    <tr>\n",
       "      <th>8</th>\n",
       "      <td>2017-05-01</td>\n",
       "      <td>'cautious on pharma , time to get into it : ma...</td>\n",
       "      <td>'sbi: cautious on pharma, time to get into it:...</td>\n",
       "    </tr>\n",
       "    <tr>\n",
       "      <th>9</th>\n",
       "      <td>2017-05-01</td>\n",
       "      <td>'rupee gains further ground , ends 9 paise hig...</td>\n",
       "      <td>'rupee: rupee gains further ground, ends 9 pai...</td>\n",
       "    </tr>\n",
       "  </tbody>\n",
       "</table>\n",
       "</div>"
      ],
      "text/plain": [
       "        date                                              title  \\\n",
       "0 2017-05-01  'eliminating shadow economy to have positive i...   \n",
       "1 2017-05-01  'two chinese companies hit roadblock with indi...   \n",
       "2 2017-05-01              'softbank india vision gets new $100'   \n",
       "3 2017-05-01  'nissan halts joint development of luxury cars...   \n",
       "4 2017-05-01  'despite challenges rajasthan continues to pro...   \n",
       "5 2017-05-01  'india questions composition of un panel to dr...   \n",
       "6 2017-05-01  'wall st flat as banks , discretionary stocks ...   \n",
       "7 2017-05-01  'we are stock specific in pharma and auto , no...   \n",
       "8 2017-05-01  'cautious on pharma , time to get into it : ma...   \n",
       "9 2017-05-01  'rupee gains further ground , ends 9 paise hig...   \n",
       "\n",
       "                                                text  \n",
       "0  'arun jaitley: eliminating shadow economy to h...  \n",
       "1  'two chinese companies hit roadblock with indi...  \n",
       "2  'softbank's india vision gets new $100-bn tech...  \n",
       "3  ' most viewed business news articles, top news...  \n",
       "4  'vasundhara raje: despite challenges rajasthan...  \n",
       "5  'india questions composition of un panel to dr...  \n",
       "6  ' most viewed business news articles, top news...  \n",
       "7  'we are stock specific in pharma and auto, not...  \n",
       "8  'sbi: cautious on pharma, time to get into it:...  \n",
       "9  'rupee: rupee gains further ground, ends 9 pai...  "
      ]
     },
     "execution_count": 16,
     "metadata": {},
     "output_type": "execute_result"
    }
   ],
   "source": [
    "df.head(10)"
   ]
  },
  {
   "cell_type": "code",
   "execution_count": null,
   "metadata": {},
   "outputs": [],
   "source": []
  },
  {
   "cell_type": "code",
   "execution_count": 17,
   "metadata": {},
   "outputs": [
    {
     "data": {
      "text/html": [
       "<div>\n",
       "<style scoped>\n",
       "    .dataframe tbody tr th:only-of-type {\n",
       "        vertical-align: middle;\n",
       "    }\n",
       "\n",
       "    .dataframe tbody tr th {\n",
       "        vertical-align: top;\n",
       "    }\n",
       "\n",
       "    .dataframe thead th {\n",
       "        text-align: right;\n",
       "    }\n",
       "</style>\n",
       "<table border=\"1\" class=\"dataframe\">\n",
       "  <thead>\n",
       "    <tr style=\"text-align: right;\">\n",
       "      <th></th>\n",
       "      <th>date</th>\n",
       "    </tr>\n",
       "  </thead>\n",
       "  <tbody>\n",
       "    <tr>\n",
       "      <th>count</th>\n",
       "      <td>13194</td>\n",
       "    </tr>\n",
       "    <tr>\n",
       "      <th>mean</th>\n",
       "      <td>2017-07-25 03:57:35.934515712</td>\n",
       "    </tr>\n",
       "    <tr>\n",
       "      <th>min</th>\n",
       "      <td>2017-01-01 00:00:00</td>\n",
       "    </tr>\n",
       "    <tr>\n",
       "      <th>25%</th>\n",
       "      <td>2017-02-16 00:00:00</td>\n",
       "    </tr>\n",
       "    <tr>\n",
       "      <th>50%</th>\n",
       "      <td>2017-04-01 00:00:00</td>\n",
       "    </tr>\n",
       "    <tr>\n",
       "      <th>75%</th>\n",
       "      <td>2018-02-01 00:00:00</td>\n",
       "    </tr>\n",
       "    <tr>\n",
       "      <th>max</th>\n",
       "      <td>2018-05-31 00:00:00</td>\n",
       "    </tr>\n",
       "  </tbody>\n",
       "</table>\n",
       "</div>"
      ],
      "text/plain": [
       "                                date\n",
       "count                          13194\n",
       "mean   2017-07-25 03:57:35.934515712\n",
       "min              2017-01-01 00:00:00\n",
       "25%              2017-02-16 00:00:00\n",
       "50%              2017-04-01 00:00:00\n",
       "75%              2018-02-01 00:00:00\n",
       "max              2018-05-31 00:00:00"
      ]
     },
     "execution_count": 17,
     "metadata": {},
     "output_type": "execute_result"
    }
   ],
   "source": [
    "df.describe()"
   ]
  },
  {
   "cell_type": "code",
   "execution_count": 18,
   "metadata": {},
   "outputs": [
    {
     "data": {
      "text/plain": [
       "date     datetime64[ns]\n",
       "title            object\n",
       "text             object\n",
       "dtype: object"
      ]
     },
     "execution_count": 18,
     "metadata": {},
     "output_type": "execute_result"
    }
   ],
   "source": [
    "df.dtypes"
   ]
  },
  {
   "cell_type": "code",
   "execution_count": 24,
   "metadata": {},
   "outputs": [
    {
     "data": {
      "text/html": [
       "<div>\n",
       "<style scoped>\n",
       "    .dataframe tbody tr th:only-of-type {\n",
       "        vertical-align: middle;\n",
       "    }\n",
       "\n",
       "    .dataframe tbody tr th {\n",
       "        vertical-align: top;\n",
       "    }\n",
       "\n",
       "    .dataframe thead th {\n",
       "        text-align: right;\n",
       "    }\n",
       "</style>\n",
       "<table border=\"1\" class=\"dataframe\">\n",
       "  <thead>\n",
       "    <tr style=\"text-align: right;\">\n",
       "      <th></th>\n",
       "      <th>date</th>\n",
       "      <th>title</th>\n",
       "      <th>text</th>\n",
       "      <th>Quarter</th>\n",
       "    </tr>\n",
       "  </thead>\n",
       "  <tbody>\n",
       "    <tr>\n",
       "      <th>13189</th>\n",
       "      <td>2018-05-30</td>\n",
       "      <td>'warren buffett supplied to speculate $three b...</td>\n",
       "      <td>'home » warren buffett supplied to speculate $...</td>\n",
       "      <td>2018 Q2</td>\n",
       "    </tr>\n",
       "    <tr>\n",
       "      <th>13190</th>\n",
       "      <td>2018-05-31</td>\n",
       "      <td>'italy crisis will be too much for europe, lat...</td>\n",
       "      <td>'italy's political turmoil could hit the conti...</td>\n",
       "      <td>2018 Q2</td>\n",
       "    </tr>\n",
       "    <tr>\n",
       "      <th>13191</th>\n",
       "      <td>2018-05-31</td>\n",
       "      <td>'russia's lavrov meets north korea's kim in py...</td>\n",
       "      <td>'russia's lavrov meets north korea's kim in py...</td>\n",
       "      <td>2018 Q2</td>\n",
       "    </tr>\n",
       "    <tr>\n",
       "      <th>13192</th>\n",
       "      <td>2018-05-30</td>\n",
       "      <td>'bitcoin's influence over cryptocurrency price...</td>\n",
       "      <td>'30 may  cryptocurrency prices have been highl...</td>\n",
       "      <td>2018 Q2</td>\n",
       "    </tr>\n",
       "    <tr>\n",
       "      <th>13193</th>\n",
       "      <td>2018-05-30</td>\n",
       "      <td>'virginia set to expand medicaid, and other st...</td>\n",
       "      <td>'virginia is poised to expand medicaid after a...</td>\n",
       "      <td>2018 Q2</td>\n",
       "    </tr>\n",
       "  </tbody>\n",
       "</table>\n",
       "</div>"
      ],
      "text/plain": [
       "            date                                              title  \\\n",
       "13189 2018-05-30  'warren buffett supplied to speculate $three b...   \n",
       "13190 2018-05-31  'italy crisis will be too much for europe, lat...   \n",
       "13191 2018-05-31  'russia's lavrov meets north korea's kim in py...   \n",
       "13192 2018-05-30  'bitcoin's influence over cryptocurrency price...   \n",
       "13193 2018-05-30  'virginia set to expand medicaid, and other st...   \n",
       "\n",
       "                                                    text  Quarter  \n",
       "13189  'home » warren buffett supplied to speculate $...  2018 Q2  \n",
       "13190  'italy's political turmoil could hit the conti...  2018 Q2  \n",
       "13191  'russia's lavrov meets north korea's kim in py...  2018 Q2  \n",
       "13192  '30 may  cryptocurrency prices have been highl...  2018 Q2  \n",
       "13193  'virginia is poised to expand medicaid after a...  2018 Q2  "
      ]
     },
     "execution_count": 24,
     "metadata": {},
     "output_type": "execute_result"
    }
   ],
   "source": [
    "df[\"Quarter\"] = df[\"date\"].dt.year.astype(str) + \" Q\" + df[\"date\"].dt.quarter.astype(str)\n",
    "df.head() "
   ]
  },
  {
   "cell_type": "code",
   "execution_count": 23,
   "metadata": {},
   "outputs": [
    {
     "data": {
      "text/plain": [
       "{'2017 Q1', '2017 Q2', '2017 Q3', '2017 Q4', '2018 Q1', '2018 Q2'}"
      ]
     },
     "execution_count": 23,
     "metadata": {},
     "output_type": "execute_result"
    }
   ],
   "source": [
    "# print all unique quarters in df\n",
    "quarters = df['Quarter']\n",
    "set(quarters)"
   ]
  },
  {
   "cell_type": "code",
   "execution_count": 20,
   "metadata": {},
   "outputs": [
    {
     "data": {
      "text/plain": [
       "<Axes: xlabel='Quarter'>"
      ]
     },
     "execution_count": 20,
     "metadata": {},
     "output_type": "execute_result"
    },
    {
     "data": {
      "image/png": "[encoded data removed]",
      "text/plain": [
       "<Figure size 640x480 with 1 Axes>"
      ]
     },
     "metadata": {},
     "output_type": "display_data"
    }
   ],
   "source": [
    "# create histogram to show the distribution of the number of total articles per quarter\n",
    "df['Quarter'].value_counts().plot(kind='bar')"
   ]
  }
 ],
 "metadata": {
  "kernelspec": {
   "display_name": "env",
   "language": "python",
   "name": "python3"
  },
  "language_info": {
   "codemirror_mode": {
    "name": "ipython",
    "version": 3
   },
   "file_extension": ".py",
   "mimetype": "text/x-python",
   "name": "python",
   "nbconvert_exporter": "python",
   "pygments_lexer": "ipython3",
   "version": "3.10.7"
  }
 },
 "nbformat": 4,
 "nbformat_minor": 2
}
